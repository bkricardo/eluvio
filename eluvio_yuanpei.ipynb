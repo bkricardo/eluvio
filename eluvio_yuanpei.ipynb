{
  "nbformat": 4,
  "nbformat_minor": 0,
  "metadata": {
    "colab": {
      "name": "eluvio_yuanpei.ipynb",
      "provenance": [],
      "authorship_tag": "ABX9TyPndmTouDJTq9IR3hVXDfGr",
      "include_colab_link": true
    },
    "kernelspec": {
      "name": "python3",
      "display_name": "Python 3"
    },
    "language_info": {
      "name": "python"
    },
    "accelerator": "GPU"
  },
  "cells": [
    {
      "cell_type": "markdown",
      "metadata": {
        "id": "view-in-github",
        "colab_type": "text"
      },
      "source": [
        "<a href=\"https://colab.research.google.com/github/bkricardo/eluvio/blob/main/eluvio_yuanpei.ipynb\" target=\"_parent\"><img src=\"https://colab.research.google.com/assets/colab-badge.svg\" alt=\"Open In Colab\"/></a>"
      ]
    },
    {
      "cell_type": "code",
      "metadata": {
        "colab": {
          "base_uri": "https://localhost:8080/"
        },
        "id": "skpyuhYHPFyy",
        "outputId": "410ea123-b57e-40bc-a6fa-1b0dc59e842b"
      },
      "source": [
        "#load data from google drive\n",
        "from google.colab import drive\n",
        "drive.mount(\"/content/gdrive\",force_remount=True)\n",
        "%cd ./gdrive/My Drive/eluvio_hw"
      ],
      "execution_count": 1,
      "outputs": [
        {
          "output_type": "stream",
          "text": [
            "Mounted at /content/gdrive\n",
            "/content/gdrive/My Drive/eluvio_hw\n"
          ],
          "name": "stdout"
        }
      ]
    },
    {
      "cell_type": "code",
      "metadata": {
        "id": "hZjJ93LnPVxD"
      },
      "source": [
        "import numpy as np\n",
        "import pandas as pd\n",
        "import matplotlib.pyplot as plt\n",
        "import seaborn as sns\n",
        "from scipy import stats"
      ],
      "execution_count": 2,
      "outputs": []
    },
    {
      "cell_type": "markdown",
      "metadata": {
        "id": "ORnTZ6pAt92K"
      },
      "source": [
        "# 1.Data Inspection"
      ]
    },
    {
      "cell_type": "code",
      "metadata": {
        "colab": {
          "base_uri": "https://localhost:8080/",
          "height": 195
        },
        "id": "SdQ7dGlnPcyr",
        "outputId": "ed052fb9-d1e1-422a-939f-df4a45aefdbb"
      },
      "source": [
        "eluvio = pd.read_csv('Eluvio_DS_Challenge.csv',parse_dates=['date_created'])\n",
        "eluvio.head()"
      ],
      "execution_count": 138,
      "outputs": [
        {
          "output_type": "execute_result",
          "data": {
            "text/html": [
              "<div>\n",
              "<style scoped>\n",
              "    .dataframe tbody tr th:only-of-type {\n",
              "        vertical-align: middle;\n",
              "    }\n",
              "\n",
              "    .dataframe tbody tr th {\n",
              "        vertical-align: top;\n",
              "    }\n",
              "\n",
              "    .dataframe thead th {\n",
              "        text-align: right;\n",
              "    }\n",
              "</style>\n",
              "<table border=\"1\" class=\"dataframe\">\n",
              "  <thead>\n",
              "    <tr style=\"text-align: right;\">\n",
              "      <th></th>\n",
              "      <th>time_created</th>\n",
              "      <th>date_created</th>\n",
              "      <th>up_votes</th>\n",
              "      <th>down_votes</th>\n",
              "      <th>title</th>\n",
              "      <th>over_18</th>\n",
              "      <th>author</th>\n",
              "      <th>category</th>\n",
              "    </tr>\n",
              "  </thead>\n",
              "  <tbody>\n",
              "    <tr>\n",
              "      <th>0</th>\n",
              "      <td>1201232046</td>\n",
              "      <td>2008-01-25</td>\n",
              "      <td>3</td>\n",
              "      <td>0</td>\n",
              "      <td>Scores killed in Pakistan clashes</td>\n",
              "      <td>False</td>\n",
              "      <td>polar</td>\n",
              "      <td>worldnews</td>\n",
              "    </tr>\n",
              "    <tr>\n",
              "      <th>1</th>\n",
              "      <td>1201232075</td>\n",
              "      <td>2008-01-25</td>\n",
              "      <td>2</td>\n",
              "      <td>0</td>\n",
              "      <td>Japan resumes refuelling mission</td>\n",
              "      <td>False</td>\n",
              "      <td>polar</td>\n",
              "      <td>worldnews</td>\n",
              "    </tr>\n",
              "    <tr>\n",
              "      <th>2</th>\n",
              "      <td>1201232523</td>\n",
              "      <td>2008-01-25</td>\n",
              "      <td>3</td>\n",
              "      <td>0</td>\n",
              "      <td>US presses Egypt on Gaza border</td>\n",
              "      <td>False</td>\n",
              "      <td>polar</td>\n",
              "      <td>worldnews</td>\n",
              "    </tr>\n",
              "    <tr>\n",
              "      <th>3</th>\n",
              "      <td>1201233290</td>\n",
              "      <td>2008-01-25</td>\n",
              "      <td>1</td>\n",
              "      <td>0</td>\n",
              "      <td>Jump-start economy: Give health care to all</td>\n",
              "      <td>False</td>\n",
              "      <td>fadi420</td>\n",
              "      <td>worldnews</td>\n",
              "    </tr>\n",
              "    <tr>\n",
              "      <th>4</th>\n",
              "      <td>1201274720</td>\n",
              "      <td>2008-01-25</td>\n",
              "      <td>4</td>\n",
              "      <td>0</td>\n",
              "      <td>Council of Europe bashes EU&amp;UN terror blacklist</td>\n",
              "      <td>False</td>\n",
              "      <td>mhermans</td>\n",
              "      <td>worldnews</td>\n",
              "    </tr>\n",
              "  </tbody>\n",
              "</table>\n",
              "</div>"
            ],
            "text/plain": [
              "   time_created date_created  up_votes  ...  over_18    author   category\n",
              "0    1201232046   2008-01-25         3  ...    False     polar  worldnews\n",
              "1    1201232075   2008-01-25         2  ...    False     polar  worldnews\n",
              "2    1201232523   2008-01-25         3  ...    False     polar  worldnews\n",
              "3    1201233290   2008-01-25         1  ...    False   fadi420  worldnews\n",
              "4    1201274720   2008-01-25         4  ...    False  mhermans  worldnews\n",
              "\n",
              "[5 rows x 8 columns]"
            ]
          },
          "metadata": {
            "tags": []
          },
          "execution_count": 138
        }
      ]
    },
    {
      "cell_type": "code",
      "metadata": {
        "colab": {
          "base_uri": "https://localhost:8080/"
        },
        "id": "QZ66HO1sRr4P",
        "outputId": "5a290fa8-7d7a-47c8-d6c4-a1d1272d778d"
      },
      "source": [
        "eluvio.info()"
      ],
      "execution_count": 139,
      "outputs": [
        {
          "output_type": "stream",
          "text": [
            "<class 'pandas.core.frame.DataFrame'>\n",
            "RangeIndex: 509236 entries, 0 to 509235\n",
            "Data columns (total 8 columns):\n",
            " #   Column        Non-Null Count   Dtype         \n",
            "---  ------        --------------   -----         \n",
            " 0   time_created  509236 non-null  int64         \n",
            " 1   date_created  509236 non-null  datetime64[ns]\n",
            " 2   up_votes      509236 non-null  int64         \n",
            " 3   down_votes    509236 non-null  int64         \n",
            " 4   title         509236 non-null  object        \n",
            " 5   over_18       509236 non-null  bool          \n",
            " 6   author        509236 non-null  object        \n",
            " 7   category      509236 non-null  object        \n",
            "dtypes: bool(1), datetime64[ns](1), int64(3), object(3)\n",
            "memory usage: 27.7+ MB\n"
          ],
          "name": "stdout"
        }
      ]
    },
    {
      "cell_type": "code",
      "metadata": {
        "colab": {
          "base_uri": "https://localhost:8080/"
        },
        "id": "wc58FSH-C1q-",
        "outputId": "6b4d8753-8c35-4e70-a7ee-d26c215170a1"
      },
      "source": [
        "#we are dropping the category, downs_votes columns since it only contain one feature.\n",
        "print(eluvio.groupby('category')[\"category\"].count())\n",
        "print('--------------------')\n",
        "print(eluvio.groupby('down_votes')[\"down_votes\"].count())\n",
        "print('----------------------')\n",
        "print(eluvio.groupby('over_18')[\"down_votes\"].count())"
      ],
      "execution_count": 140,
      "outputs": [
        {
          "output_type": "stream",
          "text": [
            "category\n",
            "worldnews    509236\n",
            "Name: category, dtype: int64\n",
            "--------------------\n",
            "down_votes\n",
            "0    509236\n",
            "Name: down_votes, dtype: int64\n",
            "----------------------\n",
            "over_18\n",
            "False    508916\n",
            "True        320\n",
            "Name: down_votes, dtype: int64\n"
          ],
          "name": "stdout"
        }
      ]
    },
    {
      "cell_type": "markdown",
      "metadata": {
        "id": "7Xh03y4Uu8Bc"
      },
      "source": [
        "We observe the category and down_votes column are all the same, so we are dropping them."
      ]
    },
    {
      "cell_type": "code",
      "metadata": {
        "colab": {
          "base_uri": "https://localhost:8080/",
          "height": 195
        },
        "id": "RDcwE8hGOccu",
        "outputId": "721bea4d-cbb5-4080-9a22-0bb2f8e311e4"
      },
      "source": [
        "eluvio.drop(['time_created','down_votes','category'],axis=1,inplace=True)\n",
        "eluvio.head()"
      ],
      "execution_count": 39,
      "outputs": [
        {
          "output_type": "execute_result",
          "data": {
            "text/html": [
              "<div>\n",
              "<style scoped>\n",
              "    .dataframe tbody tr th:only-of-type {\n",
              "        vertical-align: middle;\n",
              "    }\n",
              "\n",
              "    .dataframe tbody tr th {\n",
              "        vertical-align: top;\n",
              "    }\n",
              "\n",
              "    .dataframe thead th {\n",
              "        text-align: right;\n",
              "    }\n",
              "</style>\n",
              "<table border=\"1\" class=\"dataframe\">\n",
              "  <thead>\n",
              "    <tr style=\"text-align: right;\">\n",
              "      <th></th>\n",
              "      <th>date_created</th>\n",
              "      <th>up_votes</th>\n",
              "      <th>title</th>\n",
              "      <th>over_18</th>\n",
              "      <th>author</th>\n",
              "    </tr>\n",
              "  </thead>\n",
              "  <tbody>\n",
              "    <tr>\n",
              "      <th>0</th>\n",
              "      <td>2008-01-25</td>\n",
              "      <td>3</td>\n",
              "      <td>Scores killed in Pakistan clashes</td>\n",
              "      <td>False</td>\n",
              "      <td>polar</td>\n",
              "    </tr>\n",
              "    <tr>\n",
              "      <th>1</th>\n",
              "      <td>2008-01-25</td>\n",
              "      <td>2</td>\n",
              "      <td>Japan resumes refuelling mission</td>\n",
              "      <td>False</td>\n",
              "      <td>polar</td>\n",
              "    </tr>\n",
              "    <tr>\n",
              "      <th>2</th>\n",
              "      <td>2008-01-25</td>\n",
              "      <td>3</td>\n",
              "      <td>US presses Egypt on Gaza border</td>\n",
              "      <td>False</td>\n",
              "      <td>polar</td>\n",
              "    </tr>\n",
              "    <tr>\n",
              "      <th>3</th>\n",
              "      <td>2008-01-25</td>\n",
              "      <td>1</td>\n",
              "      <td>Jump-start economy: Give health care to all</td>\n",
              "      <td>False</td>\n",
              "      <td>fadi420</td>\n",
              "    </tr>\n",
              "    <tr>\n",
              "      <th>4</th>\n",
              "      <td>2008-01-25</td>\n",
              "      <td>4</td>\n",
              "      <td>Council of Europe bashes EU&amp;UN terror blacklist</td>\n",
              "      <td>False</td>\n",
              "      <td>mhermans</td>\n",
              "    </tr>\n",
              "  </tbody>\n",
              "</table>\n",
              "</div>"
            ],
            "text/plain": [
              "  date_created  up_votes  ... over_18    author\n",
              "0   2008-01-25         3  ...   False     polar\n",
              "1   2008-01-25         2  ...   False     polar\n",
              "2   2008-01-25         3  ...   False     polar\n",
              "3   2008-01-25         1  ...   False   fadi420\n",
              "4   2008-01-25         4  ...   False  mhermans\n",
              "\n",
              "[5 rows x 5 columns]"
            ]
          },
          "metadata": {
            "tags": []
          },
          "execution_count": 39
        }
      ]
    },
    {
      "cell_type": "markdown",
      "metadata": {
        "id": "pRBh6ShEvJbh"
      },
      "source": [
        "To have better sense of how upvotes changes, we plot out a time-series upvotes counts."
      ]
    },
    {
      "cell_type": "code",
      "metadata": {
        "colab": {
          "base_uri": "https://localhost:8080/",
          "height": 404
        },
        "id": "ONG9pEN1BaWN",
        "outputId": "40c3366d-2085-4045-ad4f-bc8a323100ca"
      },
      "source": [
        "time_line = eluvio.groupby('date_created')['up_votes'].sum().index\n",
        "vote_count = eluvio.groupby('date_created')['up_votes'].sum().values\n",
        "\n",
        "fig,ax = plt.subplots(figsize=(18, 6))\n",
        "plt.plot(time_line,vote_count)\n",
        "plt.title('Time series Upvotes count')\n",
        "plt.xlabel('date')\n",
        "plt.ylabel('up_votes')\n",
        "plt.show()"
      ],
      "execution_count": 40,
      "outputs": [
        {
          "output_type": "display_data",
          "data": {
            "image/png": "[encoded data removed]",
            "text/plain": [
              "<Figure size 1296x432 with 1 Axes>"
            ]
          },
          "metadata": {
            "tags": [],
            "needs_background": "light"
          }
        }
      ]
    },
    {
      "cell_type": "markdown",
      "metadata": {
        "id": "hWPse_HPvbwx"
      },
      "source": [
        "As time goes, the total upvotes in each year increase, the low total upvote for the year before 2014 might be due to the low community population. For the following task, we are only focusing on the post that happened after 2014 since we don't want the population size to affect our analysis."
      ]
    },
    {
      "cell_type": "code",
      "metadata": {
        "colab": {
          "base_uri": "https://localhost:8080/",
          "height": 212
        },
        "id": "MTNKqGKcPiNR",
        "outputId": "f8c2e50e-cd1a-4ccd-e388-e59207698fd1"
      },
      "source": [
        "after_14 = eluvio[eluvio['date_created']>='2014-01-01'].reset_index(drop=True)\n",
        "print('number of posts after 2014: ',len(after_14))\n",
        "after_14.head()"
      ],
      "execution_count": 141,
      "outputs": [
        {
          "output_type": "stream",
          "text": [
            "number of post after 2014:  268543\n"
          ],
          "name": "stdout"
        },
        {
          "output_type": "execute_result",
          "data": {
            "text/html": [
              "<div>\n",
              "<style scoped>\n",
              "    .dataframe tbody tr th:only-of-type {\n",
              "        vertical-align: middle;\n",
              "    }\n",
              "\n",
              "    .dataframe tbody tr th {\n",
              "        vertical-align: top;\n",
              "    }\n",
              "\n",
              "    .dataframe thead th {\n",
              "        text-align: right;\n",
              "    }\n",
              "</style>\n",
              "<table border=\"1\" class=\"dataframe\">\n",
              "  <thead>\n",
              "    <tr style=\"text-align: right;\">\n",
              "      <th></th>\n",
              "      <th>time_created</th>\n",
              "      <th>date_created</th>\n",
              "      <th>up_votes</th>\n",
              "      <th>down_votes</th>\n",
              "      <th>title</th>\n",
              "      <th>over_18</th>\n",
              "      <th>author</th>\n",
              "      <th>category</th>\n",
              "    </tr>\n",
              "  </thead>\n",
              "  <tbody>\n",
              "    <tr>\n",
              "      <th>0</th>\n",
              "      <td>1388534470</td>\n",
              "      <td>2014-01-01</td>\n",
              "      <td>0</td>\n",
              "      <td>0</td>\n",
              "      <td>Syria: UN humanitarian chief decries ‘indiscri...</td>\n",
              "      <td>False</td>\n",
              "      <td>sarafabali123</td>\n",
              "      <td>worldnews</td>\n",
              "    </tr>\n",
              "    <tr>\n",
              "      <th>1</th>\n",
              "      <td>1388536125</td>\n",
              "      <td>2014-01-01</td>\n",
              "      <td>0</td>\n",
              "      <td>0</td>\n",
              "      <td>Homeless recruited for Japanese nuke cleanup |...</td>\n",
              "      <td>False</td>\n",
              "      <td>burtzev</td>\n",
              "      <td>worldnews</td>\n",
              "    </tr>\n",
              "    <tr>\n",
              "      <th>2</th>\n",
              "      <td>1388537120</td>\n",
              "      <td>2014-01-01</td>\n",
              "      <td>18</td>\n",
              "      <td>0</td>\n",
              "      <td>Pollution Rising, Chinese Fear for Soil and Food</td>\n",
              "      <td>False</td>\n",
              "      <td>MoonMetropolis</td>\n",
              "      <td>worldnews</td>\n",
              "    </tr>\n",
              "    <tr>\n",
              "      <th>3</th>\n",
              "      <td>1388537216</td>\n",
              "      <td>2014-01-01</td>\n",
              "      <td>22</td>\n",
              "      <td>0</td>\n",
              "      <td>Chinese recycling tycoon says he wants to buy ...</td>\n",
              "      <td>False</td>\n",
              "      <td>MoonMetropolis</td>\n",
              "      <td>worldnews</td>\n",
              "    </tr>\n",
              "    <tr>\n",
              "      <th>4</th>\n",
              "      <td>1388538489</td>\n",
              "      <td>2014-01-01</td>\n",
              "      <td>0</td>\n",
              "      <td>0</td>\n",
              "      <td>20th century Fox gave this guy $25,000. Very i...</td>\n",
              "      <td>False</td>\n",
              "      <td>pakiranian</td>\n",
              "      <td>worldnews</td>\n",
              "    </tr>\n",
              "  </tbody>\n",
              "</table>\n",
              "</div>"
            ],
            "text/plain": [
              "   time_created date_created  up_votes  ...  over_18          author   category\n",
              "0    1388534470   2014-01-01         0  ...    False   sarafabali123  worldnews\n",
              "1    1388536125   2014-01-01         0  ...    False         burtzev  worldnews\n",
              "2    1388537120   2014-01-01        18  ...    False  MoonMetropolis  worldnews\n",
              "3    1388537216   2014-01-01        22  ...    False  MoonMetropolis  worldnews\n",
              "4    1388538489   2014-01-01         0  ...    False      pakiranian  worldnews\n",
              "\n",
              "[5 rows x 8 columns]"
            ]
          },
          "metadata": {
            "tags": []
          },
          "execution_count": 141
        }
      ]
    },
    {
      "cell_type": "markdown",
      "metadata": {
        "id": "05aF8tJHJTbo"
      },
      "source": [
        "# 2.Analysis: entity - upvote relationship"
      ]
    },
    {
      "cell_type": "markdown",
      "metadata": {
        "id": "60vTFdl4wwSa"
      },
      "source": [
        "In this analytic task, we want to inspect how the entity in the post title is distributed and related to the number of upvotes. "
      ]
    },
    {
      "cell_type": "markdown",
      "metadata": {
        "id": "wgHLjG2AOkL9"
      },
      "source": [
        "2.1 Parse the post title using spacy"
      ]
    },
    {
      "cell_type": "code",
      "metadata": {
        "colab": {
          "base_uri": "https://localhost:8080/"
        },
        "id": "AG40MRleJUzV",
        "outputId": "ed5448de-0fd5-4fbf-f81d-a807bd6e6ac3"
      },
      "source": [
        "from collections import Counter\n",
        "import re\n",
        "import spacy\n",
        "import pickle\n",
        "gpu = spacy.prefer_gpu()\n",
        "print('GPU:', gpu)\n",
        "nlp = spacy.load('en_core_web_sm', disable=['parser', 'tagger'])"
      ],
      "execution_count": 12,
      "outputs": [
        {
          "output_type": "stream",
          "text": [
            "GPU: True\n"
          ],
          "name": "stdout"
        }
      ]
    },
    {
      "cell_type": "code",
      "metadata": {
        "colab": {
          "base_uri": "https://localhost:8080/"
        },
        "id": "gHUmWnZhO6XL",
        "outputId": "c02c8dbb-89ca-431a-ca8f-4e4aaf364e50"
      },
      "source": [
        "#extrac title from the dataframe\n",
        "titles_14 = after_14['title'].values\n",
        "titles_14"
      ],
      "execution_count": null,
      "outputs": [
        {
          "output_type": "execute_result",
          "data": {
            "text/plain": [
              "array(['Syria: UN humanitarian chief decries ‘indiscriminate attacks’ in Aleppo',\n",
              "       'Homeless recruited for Japanese nuke cleanup | TheHill',\n",
              "       'Pollution Rising, Chinese Fear for Soil and Food', ...,\n",
              "       'Professor receives Arab Researchers Award',\n",
              "       'Nigel Farage attacks response to Trump ambassador tweet',\n",
              "       'Palestinian wielding knife shot dead in West Bank: Israel police'],\n",
              "      dtype=object)"
            ]
          },
          "metadata": {
            "tags": []
          },
          "execution_count": 17
        }
      ]
    },
    {
      "cell_type": "code",
      "metadata": {
        "id": "_cMMTcO3PwiJ"
      },
      "source": [
        "#parse the title using spacy, it take about 1.5 hours for parsing\n",
        "title_nlp = [0] *len(after_14)\n",
        "for i in range(len(title_14)):\n",
        "    title_nlp[i] = nlp(title_14[i])"
      ],
      "execution_count": null,
      "outputs": []
    },
    {
      "cell_type": "code",
      "metadata": {
        "id": "3dtWecMiFKwc"
      },
      "source": [
        "#extract the entity label and text from the parsed title\n",
        "#then saving them as pickle (because I'm finishing the task in separate days)\n",
        "ent_list = [0] * len(after_14)\n",
        "ent_name_list = [0] * len(after_14)\n",
        "\n",
        "for i in range(len(title_nlp)):\n",
        "    ent_temp = []\n",
        "    ent_text_temp = []\n",
        "    for ent in title_nlp[i].ents:\n",
        "        ent_temp.append(ent.label_)\n",
        "        ent_text_temp.append(ent.text)\n",
        "\n",
        "    ent_list[i] = ent_temp\n",
        "    ent_name_list[i] = ent_text_temp   \n",
        "\n",
        "with open('ent_list.pickle', 'wb') as f:\n",
        "    pickle.dump(ent_list, f)\n",
        "\n",
        "with open('ent_name_list.pickle', 'wb') as f:\n",
        "    pickle.dump(ent_name_list, f)\n",
        "\n",
        "#counter the frequency of entity label\n",
        "label_counter = Counter()\n",
        "for title in title_nlp:\n",
        "    for entity in title.ents:\n",
        "        label_counter[entity.label_] +=1\n",
        "\n",
        "with open('label_counter.pickle', 'wb') as f:\n",
        "    pickle.dump(label_counter, f)"
      ],
      "execution_count": null,
      "outputs": []
    },
    {
      "cell_type": "code",
      "metadata": {
        "colab": {
          "base_uri": "https://localhost:8080/"
        },
        "id": "ne-WBQwrGnjp",
        "outputId": "5ed3bd7a-f99f-4172-811a-b0a8bb85c8ca"
      },
      "source": [
        "#load the saved pickle\n",
        "ent_list = pd.read_pickle('ent_list.pickle')\n",
        "ent_name_list = pd.read_pickle('ent_name_list.pickle')\n",
        "label_counter = pd.read_pickle('label_counter.pickle')\n",
        "print(ent_list[:5])\n",
        "print(ent_name_list[:5])"
      ],
      "execution_count": 134,
      "outputs": [
        {
          "output_type": "stream",
          "text": [
            "[['GPE', 'ORG', 'GPE'], ['NORP'], ['NORP'], ['NORP', 'ORG'], ['DATE', 'PERSON', 'MONEY']]\n",
            "[['Syria', 'UN', 'Aleppo'], ['Japanese'], ['Chinese'], ['Chinese', 'New York Times'], ['20th century', 'Fox', '25,000']]\n"
          ],
          "name": "stdout"
        }
      ]
    },
    {
      "cell_type": "markdown",
      "metadata": {
        "id": "RDeA67GTM21-"
      },
      "source": [
        "Here are some explanation for entity labels in Spacy, This can be found using `spacy.explain(\"XXX\")`\n",
        "\n",
        "**GPE**: Countries, cities, states\n",
        "\n",
        "**NORP**: Nationalities or religious or political groups\n",
        "\n",
        "**ORG**: Companies, agencies, institutions, etc."
      ]
    },
    {
      "cell_type": "markdown",
      "metadata": {
        "id": "wP6A9X01zPiP"
      },
      "source": [
        "After getting the entity from spacy, we can check the frequency of the entity that appears in the post. "
      ]
    },
    {
      "cell_type": "code",
      "metadata": {
        "colab": {
          "base_uri": "https://localhost:8080/",
          "height": 410
        },
        "id": "nAvgtQYbJle6",
        "outputId": "3d5f078e-af5c-4132-c4b5-e7d0b5b99b4f"
      },
      "source": [
        "freq_count_plot(_,counter=label_counter) #Code of this helper function can be found at the bottom of the notebook."
      ],
      "execution_count": 155,
      "outputs": [
        {
          "output_type": "display_data",
          "data": {
            "image/png": "[encoded data removed]",
            "text/plain": [
              "<Figure size 432x288 with 1 Axes>"
            ]
          },
          "metadata": {
            "tags": [],
            "needs_background": "light"
          }
        },
        {
          "output_type": "stream",
          "text": [
            "1st entity label propotion:  0.357\n",
            "2nd entity label propotion:  0.1614\n",
            "3rd entity label propotion:  0.1553\n"
          ],
          "name": "stdout"
        }
      ]
    },
    {
      "cell_type": "markdown",
      "metadata": {
        "id": "V0X2uqVI0E2H"
      },
      "source": [
        "We can see `GPE`, `NORP` and `ORG` are the more frequent entity label appear in the post, To dive in more, let's print out the top 10 most frequently occurred entities with label `GPE`, `NORP` and `ORG`."
      ]
    },
    {
      "cell_type": "code",
      "metadata": {
        "colab": {
          "base_uri": "https://localhost:8080/"
        },
        "id": "Lvr3qLAQpQQD",
        "outputId": "32fc9d63-f333-4f94-a2b6-2f65925c14b6"
      },
      "source": [
        "top_10_count(ent_list,ent_name_list) #Code of this helper function can be found at the bottom of the notebook."
      ],
      "execution_count": 137,
      "outputs": [
        {
          "output_type": "stream",
          "text": [
            "ORG top 10\n",
            "EU             :   5174\n",
            "UN             :   4269\n",
            "ISIS           :   3787\n",
            "Islamic State  :   1804\n",
            "Hamas          :   1629\n",
            "NATO           :   1470\n",
            "Taliban        :   1377\n",
            "U.N.           :   1266\n",
            "Google         :    729\n",
            "NSA            :    720\n",
            "-------------------\n",
            "GPE top 10\n",
            "Russia         :  12848\n",
            "China          :  12646\n",
            "US             :  11895\n",
            "Syria          :   9654\n",
            "Ukraine        :   8942\n",
            "U.S.           :   8565\n",
            "Israel         :   6863\n",
            "Iran           :   6320\n",
            "UK             :   5768\n",
            "Turkey         :   5758\n",
            "-------------------\n",
            "NORP top 10\n",
            "Russian        :   7313\n",
            "Syrian         :   4448\n",
            "Israeli        :   4174\n",
            "Chinese        :   3972\n",
            "Islamic        :   3313\n",
            "French         :   3157\n",
            "Turkish        :   2847\n",
            "German         :   2842\n",
            "British        :   2704\n",
            "Palestinian    :   2558\n"
          ],
          "name": "stdout"
        }
      ]
    },
    {
      "cell_type": "markdown",
      "metadata": {
        "id": "shaioe2z1Eqy"
      },
      "source": [
        "From the list, We can see Russia and China shows up the most in GPE, and Russian also appears most frequently in NORP. For organization (ORG), The top appearance is EU and UN, while we also see some terrorist appears at the top, such as ISIS, Islamic State, Taliban."
      ]
    },
    {
      "cell_type": "markdown",
      "metadata": {
        "id": "3Z9qEVvNH4Bc"
      },
      "source": [
        "2.2 **Focus on the top 20% upvotes post**"
      ]
    },
    {
      "cell_type": "markdown",
      "metadata": {
        "id": "WNpoTusn3TCw"
      },
      "source": [
        "From the intuition of the 80/20 rule(Pareto principle), roughly 80% of consequences come from 20% of the causes. We want to see how entity appears in the top 20% of most # of upvotes post."
      ]
    },
    {
      "cell_type": "code",
      "metadata": {
        "colab": {
          "base_uri": "https://localhost:8080/",
          "height": 195
        },
        "id": "EET6GMDLOMS6",
        "outputId": "1c1d8524-2c7e-43fc-f500-9c53f50ce87d"
      },
      "source": [
        "after_14['entity_label'] = ent_list\n",
        "after_14['entity_text'] = ent_name_list\n",
        "after_14.head()"
      ],
      "execution_count": 147,
      "outputs": [
        {
          "output_type": "execute_result",
          "data": {
            "text/html": [
              "<div>\n",
              "<style scoped>\n",
              "    .dataframe tbody tr th:only-of-type {\n",
              "        vertical-align: middle;\n",
              "    }\n",
              "\n",
              "    .dataframe tbody tr th {\n",
              "        vertical-align: top;\n",
              "    }\n",
              "\n",
              "    .dataframe thead th {\n",
              "        text-align: right;\n",
              "    }\n",
              "</style>\n",
              "<table border=\"1\" class=\"dataframe\">\n",
              "  <thead>\n",
              "    <tr style=\"text-align: right;\">\n",
              "      <th></th>\n",
              "      <th>time_created</th>\n",
              "      <th>date_created</th>\n",
              "      <th>up_votes</th>\n",
              "      <th>down_votes</th>\n",
              "      <th>title</th>\n",
              "      <th>over_18</th>\n",
              "      <th>author</th>\n",
              "      <th>category</th>\n",
              "      <th>entity_label</th>\n",
              "      <th>entity_text</th>\n",
              "    </tr>\n",
              "  </thead>\n",
              "  <tbody>\n",
              "    <tr>\n",
              "      <th>0</th>\n",
              "      <td>1388534470</td>\n",
              "      <td>2014-01-01</td>\n",
              "      <td>0</td>\n",
              "      <td>0</td>\n",
              "      <td>Syria: UN humanitarian chief decries ‘indiscri...</td>\n",
              "      <td>False</td>\n",
              "      <td>sarafabali123</td>\n",
              "      <td>worldnews</td>\n",
              "      <td>[GPE, ORG, GPE]</td>\n",
              "      <td>[Syria, UN, Aleppo]</td>\n",
              "    </tr>\n",
              "    <tr>\n",
              "      <th>1</th>\n",
              "      <td>1388536125</td>\n",
              "      <td>2014-01-01</td>\n",
              "      <td>0</td>\n",
              "      <td>0</td>\n",
              "      <td>Homeless recruited for Japanese nuke cleanup |...</td>\n",
              "      <td>False</td>\n",
              "      <td>burtzev</td>\n",
              "      <td>worldnews</td>\n",
              "      <td>[NORP]</td>\n",
              "      <td>[Japanese]</td>\n",
              "    </tr>\n",
              "    <tr>\n",
              "      <th>2</th>\n",
              "      <td>1388537120</td>\n",
              "      <td>2014-01-01</td>\n",
              "      <td>18</td>\n",
              "      <td>0</td>\n",
              "      <td>Pollution Rising, Chinese Fear for Soil and Food</td>\n",
              "      <td>False</td>\n",
              "      <td>MoonMetropolis</td>\n",
              "      <td>worldnews</td>\n",
              "      <td>[NORP]</td>\n",
              "      <td>[Chinese]</td>\n",
              "    </tr>\n",
              "    <tr>\n",
              "      <th>3</th>\n",
              "      <td>1388537216</td>\n",
              "      <td>2014-01-01</td>\n",
              "      <td>22</td>\n",
              "      <td>0</td>\n",
              "      <td>Chinese recycling tycoon says he wants to buy ...</td>\n",
              "      <td>False</td>\n",
              "      <td>MoonMetropolis</td>\n",
              "      <td>worldnews</td>\n",
              "      <td>[NORP, ORG]</td>\n",
              "      <td>[Chinese, New York Times]</td>\n",
              "    </tr>\n",
              "    <tr>\n",
              "      <th>4</th>\n",
              "      <td>1388538489</td>\n",
              "      <td>2014-01-01</td>\n",
              "      <td>0</td>\n",
              "      <td>0</td>\n",
              "      <td>20th century Fox gave this guy $25,000. Very i...</td>\n",
              "      <td>False</td>\n",
              "      <td>pakiranian</td>\n",
              "      <td>worldnews</td>\n",
              "      <td>[DATE, PERSON, MONEY]</td>\n",
              "      <td>[20th century, Fox, 25,000]</td>\n",
              "    </tr>\n",
              "  </tbody>\n",
              "</table>\n",
              "</div>"
            ],
            "text/plain": [
              "   time_created  ...                  entity_text\n",
              "0    1388534470  ...          [Syria, UN, Aleppo]\n",
              "1    1388536125  ...                   [Japanese]\n",
              "2    1388537120  ...                    [Chinese]\n",
              "3    1388537216  ...    [Chinese, New York Times]\n",
              "4    1388538489  ...  [20th century, Fox, 25,000]\n",
              "\n",
              "[5 rows x 10 columns]"
            ]
          },
          "metadata": {
            "tags": []
          },
          "execution_count": 147
        }
      ]
    },
    {
      "cell_type": "code",
      "metadata": {
        "colab": {
          "base_uri": "https://localhost:8080/",
          "height": 284
        },
        "id": "Ok1g_DPHNrpr",
        "outputId": "3275501d-bc71-4ad6-bf98-f360d9517819"
      },
      "source": [
        "after_14.describe()"
      ],
      "execution_count": 60,
      "outputs": [
        {
          "output_type": "execute_result",
          "data": {
            "text/html": [
              "<div>\n",
              "<style scoped>\n",
              "    .dataframe tbody tr th:only-of-type {\n",
              "        vertical-align: middle;\n",
              "    }\n",
              "\n",
              "    .dataframe tbody tr th {\n",
              "        vertical-align: top;\n",
              "    }\n",
              "\n",
              "    .dataframe thead th {\n",
              "        text-align: right;\n",
              "    }\n",
              "</style>\n",
              "<table border=\"1\" class=\"dataframe\">\n",
              "  <thead>\n",
              "    <tr style=\"text-align: right;\">\n",
              "      <th></th>\n",
              "      <th>up_votes</th>\n",
              "    </tr>\n",
              "  </thead>\n",
              "  <tbody>\n",
              "    <tr>\n",
              "      <th>count</th>\n",
              "      <td>268543.000000</td>\n",
              "    </tr>\n",
              "    <tr>\n",
              "      <th>mean</th>\n",
              "      <td>153.346202</td>\n",
              "    </tr>\n",
              "    <tr>\n",
              "      <th>std</th>\n",
              "      <td>686.153567</td>\n",
              "    </tr>\n",
              "    <tr>\n",
              "      <th>min</th>\n",
              "      <td>0.000000</td>\n",
              "    </tr>\n",
              "    <tr>\n",
              "      <th>25%</th>\n",
              "      <td>2.000000</td>\n",
              "    </tr>\n",
              "    <tr>\n",
              "      <th>50%</th>\n",
              "      <td>5.000000</td>\n",
              "    </tr>\n",
              "    <tr>\n",
              "      <th>75%</th>\n",
              "      <td>18.000000</td>\n",
              "    </tr>\n",
              "    <tr>\n",
              "      <th>max</th>\n",
              "      <td>21253.000000</td>\n",
              "    </tr>\n",
              "  </tbody>\n",
              "</table>\n",
              "</div>"
            ],
            "text/plain": [
              "            up_votes\n",
              "count  268543.000000\n",
              "mean      153.346202\n",
              "std       686.153567\n",
              "min         0.000000\n",
              "25%         2.000000\n",
              "50%         5.000000\n",
              "75%        18.000000\n",
              "max     21253.000000"
            ]
          },
          "metadata": {
            "tags": []
          },
          "execution_count": 60
        }
      ]
    },
    {
      "cell_type": "code",
      "metadata": {
        "colab": {
          "base_uri": "https://localhost:8080/"
        },
        "id": "K15-iEE4PzdA",
        "outputId": "2acfc3ad-b804-4765-a76a-5b2bffbf55eb"
      },
      "source": [
        "#the 75% percentile is 18, we will slice the data from 20 for simplicity\n",
        "top_votes = after_14[after_14['up_votes']> 20]\n",
        "print(\"the # of top 20% upvote post: \",len(after_14[after_14['up_votes']> 20]))"
      ],
      "execution_count": 156,
      "outputs": [
        {
          "output_type": "stream",
          "text": [
            "the # of top 20% upvote post:  63258\n"
          ],
          "name": "stdout"
        }
      ]
    },
    {
      "cell_type": "markdown",
      "metadata": {
        "id": "oew4V5qg4BbZ"
      },
      "source": [
        "Then we plot the frequency count and top entities list as before"
      ]
    },
    {
      "cell_type": "code",
      "metadata": {
        "colab": {
          "base_uri": "https://localhost:8080/",
          "height": 410
        },
        "id": "P5YjCnziS-2T",
        "outputId": "e2be9836-e5aa-4658-81c4-3fc4d6aca3cd"
      },
      "source": [
        "top_votes_ent = top_votes['entity_label'].values\n",
        "top_votes_name = top_votes['entity_text'].values\n",
        "freq_count_plot(top_votes_ent)"
      ],
      "execution_count": 157,
      "outputs": [
        {
          "output_type": "display_data",
          "data": {
            "image/png": "[encoded data removed]",
            "text/plain": [
              "<Figure size 432x288 with 1 Axes>"
            ]
          },
          "metadata": {
            "tags": [],
            "needs_background": "light"
          }
        },
        {
          "output_type": "stream",
          "text": [
            "1st entity label propotion:  0.3395\n",
            "2nd entity label propotion:  0.1642\n",
            "3rd entity label propotion:  0.1513\n"
          ],
          "name": "stdout"
        }
      ]
    },
    {
      "cell_type": "markdown",
      "metadata": {
        "id": "yJ9u3yOlUl2V"
      },
      "source": [
        "The top 20% of most upvotes posts preserve a simliar pattern of distribution as the total post."
      ]
    },
    {
      "cell_type": "code",
      "metadata": {
        "colab": {
          "base_uri": "https://localhost:8080/"
        },
        "id": "r30a8iJEoE5q",
        "outputId": "feb8c3ac-c5d2-4d2e-8f19-f830b156f435"
      },
      "source": [
        "top_10_count(top_votes_ent,top_votes_name)"
      ],
      "execution_count": 158,
      "outputs": [
        {
          "output_type": "stream",
          "text": [
            "ORG top 10\n",
            "ISIS           :   1225\n",
            "EU             :   1155\n",
            "UN             :    978\n",
            "Hamas          :    497\n",
            "Islamic State  :    436\n",
            "NATO           :    394\n",
            "NSA            :    371\n",
            "Taliban        :    261\n",
            "U.N.           :    247\n",
            "CIA            :    244\n",
            "-------------------\n",
            "GPE top 10\n",
            "Russia         :   3444\n",
            "US             :   3106\n",
            "China          :   2816\n",
            "Ukraine        :   2261\n",
            "U.S.           :   2146\n",
            "Syria          :   1820\n",
            "Israel         :   1689\n",
            "UK             :   1550\n",
            "Turkey         :   1499\n",
            "India          :   1362\n",
            "-------------------\n",
            "NORP top 10\n",
            "Russian        :   2118\n",
            "Chinese        :   1026\n",
            "Israeli        :    959\n",
            "German         :    927\n",
            "Islamic        :    923\n",
            "Syrian         :    909\n",
            "French         :    799\n",
            "Turkish        :    794\n",
            "British        :    765\n",
            "Australian     :    636\n"
          ],
          "name": "stdout"
        }
      ]
    },
    {
      "cell_type": "markdown",
      "metadata": {
        "id": "uqqncc1H6Stc"
      },
      "source": [
        "In the top 20% upvote posts, We can see the ISIS in `ORG` has surpassed the EU and UN in the total post. Russia and Russia are still the most population entity that posts like to mention in `GPE` and `NORP`."
      ]
    },
    {
      "cell_type": "markdown",
      "metadata": {
        "id": "bSYVDyiJU8Rn"
      },
      "source": [
        "2.3 **From the most popular author perspective**"
      ]
    },
    {
      "cell_type": "markdown",
      "metadata": {
        "id": "ODPayh7466Q9"
      },
      "source": [
        "Another dimension we could look into is how an entity appears in the most popular author post.\n",
        "\n",
        "We are using the top 10 author's posts in the following task. "
      ]
    },
    {
      "cell_type": "code",
      "metadata": {
        "colab": {
          "base_uri": "https://localhost:8080/"
        },
        "id": "196_sMxWQIXX",
        "outputId": "25c5dade-7c8c-45f3-ad38-8e3087e41eff"
      },
      "source": [
        "#difference in author\n",
        "print(after_14.groupby('author')['up_votes'].sum().nlargest(10))"
      ],
      "execution_count": 159,
      "outputs": [
        {
          "output_type": "stream",
          "text": [
            "author\n",
            "maxwellhill        1238249\n",
            "anutensil          1025796\n",
            "Libertatea          625081\n",
            "Wagamaga            580121\n",
            "DoremusJessup       559515\n",
            "NinjaDiscoJesus     462750\n",
            "madazzahatter       418642\n",
            "madam1              340291\n",
            "kulkke              296547\n",
            "pnewell             276325\n",
            "Name: up_votes, dtype: int64\n"
          ],
          "name": "stdout"
        }
      ]
    },
    {
      "cell_type": "code",
      "metadata": {
        "id": "tHxtTlIpZ3hZ"
      },
      "source": [
        "author_lst = list(after_14.groupby('author')['up_votes'].sum().nlargest(10).index)\n",
        "author_df = after_14[after_14['author'].isin(author_lst)]"
      ],
      "execution_count": 160,
      "outputs": []
    },
    {
      "cell_type": "code",
      "metadata": {
        "colab": {
          "base_uri": "https://localhost:8080/",
          "height": 410
        },
        "id": "FIzmRKRvaJ3w",
        "outputId": "725837bd-753b-4dbd-abac-6e89b309ac39"
      },
      "source": [
        "author_ent = author_df['entity_label'].values\n",
        "author_name = author_df['entity_text'].values\n",
        "freq_count_plot(author_ent)"
      ],
      "execution_count": 161,
      "outputs": [
        {
          "output_type": "display_data",
          "data": {
            "image/png": "[encoded data removed]",
            "text/plain": [
              "<Figure size 432x288 with 1 Axes>"
            ]
          },
          "metadata": {
            "tags": [],
            "needs_background": "light"
          }
        },
        {
          "output_type": "stream",
          "text": [
            "1st entity label propotion:  0.2683\n",
            "2nd entity label propotion:  0.1471\n",
            "3rd entity label propotion:  0.1427\n"
          ],
          "name": "stdout"
        }
      ]
    },
    {
      "cell_type": "markdown",
      "metadata": {
        "id": "_yQjCrjo7qFR"
      },
      "source": [
        "There is a larger decrease in proportion of `GPE` compare with `ORG` and `NORP` in total posts."
      ]
    },
    {
      "cell_type": "code",
      "metadata": {
        "colab": {
          "base_uri": "https://localhost:8080/"
        },
        "id": "CYNFh5Donmsu",
        "outputId": "1cc97c6f-56de-420a-a37b-0f6e909e1970"
      },
      "source": [
        "top_10_count(author_ent,author_name)"
      ],
      "execution_count": 125,
      "outputs": [
        {
          "output_type": "stream",
          "text": [
            "ORG top 10\n",
            "EU             :    186\n",
            "UN             :    137\n",
            "NSA            :    106\n",
            "Islamic State  :     64\n",
            "U.N.           :     44\n",
            "CIA            :     41\n",
            "Islam          :     38\n",
            "Amazon         :     37\n",
            "Taliban        :     36\n",
            "Google         :     33\n",
            "-------------------\n",
            "GPE top 10\n",
            "US             :    370\n",
            "China          :    314\n",
            "UK             :    272\n",
            "U.S.           :    249\n",
            "Russia         :    240\n",
            "Japan          :    212\n",
            "Germany        :    188\n",
            "Syria          :    167\n",
            "Australia      :    162\n",
            "Turkey         :    157\n",
            "-------------------\n",
            "NORP top 10\n",
            "German         :    189\n",
            "Russian        :    165\n",
            "French         :    144\n",
            "Islamic        :    129\n",
            "British        :    126\n",
            "Chinese        :    125\n",
            "Turkish        :    101\n",
            "Japanese       :     96\n",
            "Syrian         :     86\n",
            "European       :     73\n"
          ],
          "name": "stdout"
        }
      ]
    },
    {
      "cell_type": "markdown",
      "metadata": {
        "id": "auarUgX38Jpq"
      },
      "source": [
        "For `ORG`, although EU, UN, and the terrorist group are still on the list, we can see some giant tech are also appear on the list, like Google, Amazon.\n",
        "Then, in `GPE`, the US and U.S. have become the most appeared entity. This might because most of the popular authors are focusing on US-related news.\n",
        "\n",
        "In the end, surprisingly, German appears the most in the `NORP` instead of Russian in other dimensions of entity counts. We might want to look into it.\n",
        "\n"
      ]
    },
    {
      "cell_type": "markdown",
      "metadata": {
        "id": "LU2iRsD09tkQ"
      },
      "source": [
        "## 3.Conclusion"
      ]
    },
    {
      "cell_type": "markdown",
      "metadata": {
        "id": "q-rjYrNU9wKR"
      },
      "source": [
        "From this entity appearance analytic task, we see  Russia is the most frequent topic in whether high upvote posts or normal posts. For organizations, the EU, the UN, And Terrorist groups like ISIS are the most frequent topic.\n",
        "\n",
        "**For further work such as predictive model.**\n",
        "\n",
        "We can use a pre-trained model like BERT to predict the popularity of a post base on its title. We can transform the number of upvotes to a certain label like ['unnoticed', 'popular', 'very popular'] to make it a classification task. On the other hand, Since BERT is a pre-train model, fine-tuning won't cost much computing power. "
      ]
    },
    {
      "cell_type": "markdown",
      "metadata": {
        "id": "jT0jg9DcCGOz"
      },
      "source": [
        "## 4.Helper function"
      ]
    },
    {
      "cell_type": "code",
      "metadata": {
        "id": "2M_Tn57ljd6C"
      },
      "source": [
        "def freq_count_plot(ent_label,counter = None): #a helper function to plot the frequency\n",
        "    if counter == None:\n",
        "        ent_counter = Counter()\n",
        "        for lst in ent_label:\n",
        "            for item in lst:\n",
        "                ent_counter[item] +=1\n",
        "    else:\n",
        "        ent_counter = counter\n",
        "\n",
        "    sorted_label = sorted(ent_counter.items(),reverse = True, key = lambda x: x[1])\n",
        "    labels = [label for label,count in sorted_label]\n",
        "    counts = [count for label,count in sorted_label]\n",
        "    plt.bar(range(len(labels)),counts)\n",
        "    plt.xticks(range(len(labels)),labels,rotation=90)\n",
        "    plt.title('Count of entity appearance')\n",
        "    plt.xlabel('Entity labels')\n",
        "    plt.ylabel('Frequency')\n",
        "    plt.show()\n",
        "\n",
        "    print('1st entity label propotion: ',round(counts[0]/sum(counts),4))\n",
        "    print('2nd entity label propotion: ',round(counts[1]/sum(counts),4))\n",
        "    print('3rd entity label propotion: ',round(counts[2]/sum(counts),4))"
      ],
      "execution_count": 153,
      "outputs": []
    },
    {
      "cell_type": "code",
      "metadata": {
        "id": "pGP9bb1jlI-I"
      },
      "source": [
        "def top_10_count(ent_label,ent_text):\n",
        "    org_entity = dict()\n",
        "    gpe_entity = dict()\n",
        "    norp_entity = dict()\n",
        "\n",
        "    for i in range(len(ent_label)):\n",
        "        curr_entities = ent_label[i]\n",
        "        curr_text = ent_text[i]\n",
        "        for j in range(len(curr_entities)):\n",
        "\n",
        "            if curr_entities[j] == 'GPE':\n",
        "                if curr_text[j] not in gpe_entity:\n",
        "                    gpe_entity[curr_text[j]] = 0\n",
        "                else:\n",
        "                    gpe_entity[curr_text[j]] += 1\n",
        "            \n",
        "            if curr_entities[j] == 'NORP':\n",
        "                if curr_text[j] not in norp_entity:\n",
        "                    norp_entity[curr_text[j]] = 0\n",
        "                else:\n",
        "                    norp_entity[curr_text[j]] += 1\n",
        "\n",
        "            if curr_entities[j] == 'ORG':\n",
        "                if curr_text[j] not in org_entity:\n",
        "                    org_entity[curr_text[j]] = 0\n",
        "                else:\n",
        "                    org_entity[curr_text[j]] += 1\n",
        "\n",
        "    sorted_org = sorted(org_entity.items(),reverse = True, key = lambda x: x[1])\n",
        "    sorted_gpe = sorted(gpe_entity.items(),reverse = True, key = lambda x: x[1])\n",
        "    sorted_norp = sorted(norp_entity.items(),reverse = True, key = lambda x: x[1])\n",
        "\n",
        "    print('ORG top 10')\n",
        "    for ent,freq in sorted_org[:10]:\n",
        "        print(\"{:14} : {:6}\".format(ent,freq))\n",
        "        \n",
        "    print('-------------------')\n",
        "    print('GPE top 10')\n",
        "    for ent,freq in sorted_gpe[:10]:\n",
        "        print(\"{:14} : {:6}\".format(ent,freq))\n",
        "\n",
        "    print('-------------------')\n",
        "    print('NORP top 10')\n",
        "    for ent,freq in sorted_norp[:10]:\n",
        "        print(\"{:14} : {:6}\".format(ent,freq))"
      ],
      "execution_count": 117,
      "outputs": []
    }
  ]
}